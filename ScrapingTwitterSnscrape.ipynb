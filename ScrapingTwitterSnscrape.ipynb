{
 "cells": [
  {
   "cell_type": "markdown",
   "id": "a86c52c1-9c98-43d1-a91b-eb45c35aad0d",
   "metadata": {},
   "source": [
    "#Web Scraping com Python – Como extrair dados do Twitter com Snscrape"
   ]
  },
  {
   "cell_type": "code",
   "execution_count": null,
   "id": "b052be92-fa9f-4ac0-bea8-f12fa611ba08",
   "metadata": {},
   "outputs": [],
   "source": [
    "# Instalar a biblioteca do Snscrape\n",
    "pip3 install git+https://github.com/JustAnotherArchivist/snscrape.git"
   ]
  },
  {
   "cell_type": "code",
   "execution_count": null,
   "id": "2648f364-3d46-4042-b05e-87e0b90fc1e1",
   "metadata": {},
   "outputs": [],
   "source": [
    "#O código abaixo irá extrair até 25000 tweets do usuário \"elonmusk\" e fornecer um arquivo CSV com Pandas"
   ]
  },
  {
   "cell_type": "code",
   "execution_count": 2,
   "id": "0fc12d16-7ecb-4c2b-b709-8440afbb555a",
   "metadata": {},
   "outputs": [
    {
     "name": "stderr",
     "output_type": "stream",
     "text": [
      "C:\\Users\\fcard\\AppData\\Local\\Temp/ipykernel_8724/723580576.py:11: FutureWarning: content is deprecated, use rawContent instead\n",
      "  attributes_container.append([tweet.date, tweet.likeCount, tweet.sourceLabel, tweet.content])\n"
     ]
    }
   ],
   "source": [
    "import snscrape.modules.twitter as sntwitter\n",
    "import pandas as pd\n",
    "\n",
    "# Criando uma lista para anexar todos os atributos do tweet (dados)\n",
    "attributes_container = []\n",
    "\n",
    "# Usando TwitterSearchScraper para raspar dados e anexar tweets à lista\n",
    "for i,tweet in enumerate(sntwitter.TwitterSearchScraper('from:elonmusk').get_items()):\n",
    "    if i>25000:\n",
    "        break\n",
    "    attributes_container.append([tweet.date, tweet.likeCount, tweet.sourceLabel, tweet.content])\n",
    "    \n",
    "# Criando um dataframe da lista de tweets acima\n",
    "tweets = pd.DataFrame(attributes_container, columns=[\"Data do tweet\", \"Numero de Likes\", \"Fonte do Tweet\", \"Tweets\"])"
   ]
  },
  {
   "cell_type": "code",
   "execution_count": 3,
   "id": "a6f9d036-891e-4abb-b573-7099ca0317a7",
   "metadata": {},
   "outputs": [
    {
     "data": {
      "text/html": [
       "<div>\n",
       "<style scoped>\n",
       "    .dataframe tbody tr th:only-of-type {\n",
       "        vertical-align: middle;\n",
       "    }\n",
       "\n",
       "    .dataframe tbody tr th {\n",
       "        vertical-align: top;\n",
       "    }\n",
       "\n",
       "    .dataframe thead th {\n",
       "        text-align: right;\n",
       "    }\n",
       "</style>\n",
       "<table border=\"1\" class=\"dataframe\">\n",
       "  <thead>\n",
       "    <tr style=\"text-align: right;\">\n",
       "      <th></th>\n",
       "      <th>Data do tweet</th>\n",
       "      <th>Numero de Likes</th>\n",
       "      <th>Fonte do Tweet</th>\n",
       "      <th>Tweets</th>\n",
       "    </tr>\n",
       "  </thead>\n",
       "  <tbody>\n",
       "    <tr>\n",
       "      <th>0</th>\n",
       "      <td>2022-10-28 18:18:55+00:00</td>\n",
       "      <td>36973</td>\n",
       "      <td>Twitter for iPhone</td>\n",
       "      <td>Twitter will be forming a content moderation c...</td>\n",
       "    </tr>\n",
       "    <tr>\n",
       "      <th>1</th>\n",
       "      <td>2022-10-28 18:10:58+00:00</td>\n",
       "      <td>2814</td>\n",
       "      <td>Twitter for iPhone</td>\n",
       "      <td>@slashdot !</td>\n",
       "    </tr>\n",
       "    <tr>\n",
       "      <th>2</th>\n",
       "      <td>2022-10-28 18:09:54+00:00</td>\n",
       "      <td>1858</td>\n",
       "      <td>Twitter for iPhone</td>\n",
       "      <td>@skorusARK Cool!</td>\n",
       "    </tr>\n",
       "    <tr>\n",
       "      <th>3</th>\n",
       "      <td>2022-10-28 13:08:13+00:00</td>\n",
       "      <td>47221</td>\n",
       "      <td>Twitter for iPhone</td>\n",
       "      <td>@WeAreCanProud First I’ve heard</td>\n",
       "    </tr>\n",
       "    <tr>\n",
       "      <th>4</th>\n",
       "      <td>2022-10-28 12:09:02+00:00</td>\n",
       "      <td>634113</td>\n",
       "      <td>Twitter for iPhone</td>\n",
       "      <td>🎶 let the good times roll 🎶</td>\n",
       "    </tr>\n",
       "  </tbody>\n",
       "</table>\n",
       "</div>"
      ],
      "text/plain": [
       "              Data do tweet  Numero de Likes      Fonte do Tweet  \\\n",
       "0 2022-10-28 18:18:55+00:00            36973  Twitter for iPhone   \n",
       "1 2022-10-28 18:10:58+00:00             2814  Twitter for iPhone   \n",
       "2 2022-10-28 18:09:54+00:00             1858  Twitter for iPhone   \n",
       "3 2022-10-28 13:08:13+00:00            47221  Twitter for iPhone   \n",
       "4 2022-10-28 12:09:02+00:00           634113  Twitter for iPhone   \n",
       "\n",
       "                                              Tweets  \n",
       "0  Twitter will be forming a content moderation c...  \n",
       "1                                        @slashdot !  \n",
       "2                                   @skorusARK Cool!  \n",
       "3                    @WeAreCanProud First I’ve heard  \n",
       "4                        🎶 let the good times roll 🎶  "
      ]
     },
     "execution_count": 3,
     "metadata": {},
     "output_type": "execute_result"
    }
   ],
   "source": [
    "tweets.head()"
   ]
  },
  {
   "cell_type": "code",
   "execution_count": 4,
   "id": "8577f2e6-252e-4955-a2c8-ba55060395ed",
   "metadata": {},
   "outputs": [
    {
     "name": "stdout",
     "output_type": "stream",
     "text": [
      "<class 'pandas.core.frame.DataFrame'>\n",
      "RangeIndex: 17453 entries, 0 to 17452\n",
      "Data columns (total 4 columns):\n",
      " #   Column           Non-Null Count  Dtype              \n",
      "---  ------           --------------  -----              \n",
      " 0   Data do tweet    17453 non-null  datetime64[ns, UTC]\n",
      " 1   Numero de Likes  17453 non-null  int64              \n",
      " 2   Fonte do Tweet   17453 non-null  object             \n",
      " 3   Tweets           17453 non-null  object             \n",
      "dtypes: datetime64[ns, UTC](1), int64(1), object(2)\n",
      "memory usage: 545.5+ KB\n"
     ]
    }
   ],
   "source": [
    "tweets.info()"
   ]
  },
  {
   "cell_type": "code",
   "execution_count": 5,
   "id": "5696a7c9-e7fa-42d7-8cc9-45d5bccecee9",
   "metadata": {},
   "outputs": [],
   "source": [
    "tweets.to_csv(\"tweetselonmusk.csv\")"
   ]
  },
  {
   "cell_type": "code",
   "execution_count": null,
   "id": "a81dc534-29a5-450c-ab37-8dfbf86c8f1d",
   "metadata": {},
   "outputs": [],
   "source": []
  }
 ],
 "metadata": {
  "kernelspec": {
   "display_name": "Python 3 (ipykernel)",
   "language": "python",
   "name": "python3"
  },
  "language_info": {
   "codemirror_mode": {
    "name": "ipython",
    "version": 3
   },
   "file_extension": ".py",
   "mimetype": "text/x-python",
   "name": "python",
   "nbconvert_exporter": "python",
   "pygments_lexer": "ipython3",
   "version": "3.10.7"
  }
 },
 "nbformat": 4,
 "nbformat_minor": 5
}
